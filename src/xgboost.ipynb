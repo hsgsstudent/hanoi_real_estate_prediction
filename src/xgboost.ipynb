{
 "cells": [
  {
   "cell_type": "markdown",
   "id": "eb5a05a4",
   "metadata": {},
   "source": [
    "# Include libraries\n"
   ]
  },
  {
   "cell_type": "code",
   "execution_count": null,
   "id": "30c5f356",
   "metadata": {},
   "outputs": [],
   "source": [
    "import pandas as pd\n",
    "import numpy as np\n",
    "import matplotlib.pyplot as plt\n",
    "import seaborn as sns\n",
    "import warnings\n",
    "import lightgbm as lgb\n",
    "from sklearn.preprocessing import OneHotEncoder, StandardScaler\n",
    "from sklearn.compose import ColumnTransformer\n",
    "from sklearn.pipeline import Pipeline\n",
    "\n",
    "warnings.filterwarnings(\"ignore\")"
   ]
  },
  {
   "cell_type": "markdown",
   "id": "e1618971",
   "metadata": {},
   "source": [
    "# Load data"
   ]
  },
  {
   "cell_type": "code",
   "execution_count": null,
   "id": "b5f4a94d",
   "metadata": {},
   "outputs": [],
   "source": [
    "df_train = pd.read_csv('./hanoi_real_estate_prediction/data/train.csv')\n",
    "df_val = pd.read_csv('./hanoi_real_estate_prediction/data/val.csv')\n",
    "df_test = pd.read_csv('./hanoi_real_estate_prediction/data/test.csv')\n",
    "df = pd.concat([df_train, df_val], axis=0)\n",
    "df"
   ]
  },
  {
   "cell_type": "code",
   "execution_count": null,
   "id": "fd813b2b",
   "metadata": {},
   "outputs": [],
   "source": [
    "features_numerical = df.select_dtypes(exclude=['object', 'bool']).copy()\n",
    "numerical_cols = features_numerical.columns.tolist()\n",
    "\n",
    "numerical_cols.remove('price')\n",
    "features_categorical = df.select_dtypes(include=['object', 'bool']).copy()\n",
    "categorical_cols = features_categorical.columns.tolist()\n",
    "categorical_transformer = OneHotEncoder(handle_unknown='ignore', sparse_output=False)\n",
    "numerical_transformer = StandardScaler()\n",
    "\n",
    "preprocessor = ColumnTransformer(\n",
    "    transformers=[\n",
    "        ('cat', categorical_transformer, categorical_cols),\n",
    "        ('num', numerical_transformer, numerical_cols)     \n",
    "    ],\n",
    "    remainder='passthrough' \n",
    ")\n",
    "y_train = df_train['price'].copy()\n",
    "y_val = df_val['price'].copy()\n",
    "\n",
    "df_train = df_train.drop(['price'], axis = 1)\n",
    "df_val = df_val.drop(['price'], axis = 1)\n",
    "\n",
    "x_train = preprocessor.fit_transform(df_train)\n",
    "x_val = preprocessor.transform(df_val)\n",
    "x_test = preprocessor.transform(df_test)"
   ]
  },
  {
   "cell_type": "code",
   "execution_count": null,
   "id": "de32d547",
   "metadata": {},
   "outputs": [],
   "source": [
    "print(\"Training x: \" + str(x_train.shape))\n",
    "print(\"Training y: \" + str(y_train.shape))\n",
    "\n",
    "print(\"Validation x: \" + str(x_val.shape))\n",
    "print(\"Validation y: \" + str(y_val.shape))\n",
    "\n",
    "print(\"Test x: \" + str(x_test.shape))"
   ]
  },
  {
   "cell_type": "markdown",
   "id": "f067f60b",
   "metadata": {},
   "source": [
    "# Extreme Gradient Boosting"
   ]
  },
  {
   "cell_type": "markdown",
   "id": "7a2cfd30",
   "metadata": {},
   "source": [
    "## Effect of max depth"
   ]
  },
  {
   "cell_type": "code",
   "execution_count": null,
   "id": "1db34a48",
   "metadata": {},
   "outputs": [],
   "source": [
    "import xgboost as xgb\n",
    "from sklearn.metrics import root_mean_squared_error\n",
    "import matplotlib.pyplot as plt\n",
    "\n",
    "depth_values = [2, 3, 4, 5, 6, 7, 8, 9, 10]\n",
    "\n",
    "train_rmse_list = []\n",
    "val_rmse_list = []\n",
    "\n",
    "# Convert data to xgboost type\n",
    "dtrain = xgb.DMatrix(x_train, label=y_train)\n",
    "dval = xgb.DMatrix(x_val, label=y_val)\n",
    "\n",
    "for depth in depth_values:\n",
    "    params = {\n",
    "        'objective': 'reg:squarederror',\n",
    "        'eval_metric': 'rmse',\n",
    "        'learning_rate': 0.01,\n",
    "        'max_depth': depth,\n",
    "    }\n",
    "\n",
    "    model = xgb.train(\n",
    "        params,\n",
    "        dtrain,\n",
    "        num_boost_round=2000,\n",
    "        evals=[(dtrain, 'train'), (dval, 'eval')],\n",
    "        verbose_eval=False\n",
    "    )\n",
    "\n",
    "    y_train_pred = model.predict(dtrain)\n",
    "    y_val_pred = model.predict(dval)\n",
    "\n",
    "    train_rmse = root_mean_squared_error(y_train, y_train_pred)\n",
    "    val_rmse = root_mean_squared_error(y_val, y_val_pred)\n",
    "\n",
    "    train_rmse_list.append(train_rmse)\n",
    "    val_rmse_list.append(val_rmse)\n",
    "\n",
    "    print(f\"max_depth={depth:2d} | Train RMSE = {train_rmse:.4f} | Val RMSE = {val_rmse:.4f}\")\n",
    "\n",
    "plt.figure(figsize=(8, 5))\n",
    "plt.plot(depth_values, train_rmse_list, marker='o', label='Tập huấn luyện')\n",
    "plt.plot(depth_values, val_rmse_list, marker='o', label='Tập kiểm tra')\n",
    "plt.title(\"Ảnh hưởng của độ sâu tối đa mỗi cây đến RMSE\")\n",
    "plt.xlabel(\"Độ sâu tối đa của mỗi cây\")\n",
    "plt.ylabel(\"RMSE\")\n",
    "plt.legend()\n",
    "plt.grid(True)\n",
    "plt.tight_layout()\n",
    "plt.show()\n"
   ]
  },
  {
   "cell_type": "markdown",
   "id": "a28be4d2",
   "metadata": {},
   "source": [
    "# Effect of min_child_weight"
   ]
  },
  {
   "cell_type": "code",
   "execution_count": null,
   "id": "e511284b",
   "metadata": {},
   "outputs": [],
   "source": [
    "import xgboost as xgb\n",
    "from sklearn.metrics import root_mean_squared_error\n",
    "import matplotlib.pyplot as plt\n",
    "\n",
    "min_child_weight_values = [1, 2, 3, 4, 5, 6, 7, 8, 9, 10, 11, 12, 13, 14, 15]\n",
    "\n",
    "\n",
    "train_rmse_list = []\n",
    "val_rmse_list = []\n",
    "\n",
    "dtrain = xgb.DMatrix(x_train, label=y_train)\n",
    "dval = xgb.DMatrix(x_val, label=y_val)\n",
    "\n",
    "for min_child_weight in min_child_weight_values:\n",
    "    params = {\n",
    "        'objective': 'reg:squarederror',\n",
    "        'eval_metric': 'rmse',\n",
    "        'learning_rate': 0.01,\n",
    "        'min_child_weight': min_child_weight,\n",
    "    }\n",
    "\n",
    "\n",
    "    model = xgb.train(\n",
    "        params,\n",
    "        dtrain,\n",
    "        num_boost_round=2000,\n",
    "        evals=[(dtrain, 'train'), (dval, 'eval')],\n",
    "        early_stopping_rounds=2000,\n",
    "        verbose_eval=False\n",
    "    )\n",
    "\n",
    "    y_train_pred = model.predict(dtrain)\n",
    "    y_val_pred = model.predict(dval)\n",
    "\n",
    "    train_rmse = root_mean_squared_error(y_train, y_train_pred)\n",
    "    val_rmse = root_mean_squared_error(y_val, y_val_pred)\n",
    "\n",
    "    train_rmse_list.append(train_rmse)\n",
    "    val_rmse_list.append(val_rmse)\n",
    "\n",
    "    print(f\"min_child_weight={min_child_weight:2d} | Train RMSE = {train_rmse:.4f} | Val RMSE = {val_rmse:.4f}\")\n",
    "\n",
    "plt.figure(figsize=(8, 5))\n",
    "plt.plot(min_child_weight_values, train_rmse_list, marker='o', label='Dữ liệu huấn luyện')\n",
    "plt.plot(min_child_weight_values, val_rmse_list, marker='o', label='Dữ liệu kiểm tra')\n",
    "plt.title(\"Ảnh hưởng của tổng trọng số tối thiểu mỗi nút lá đến RMSE\")\n",
    "plt.xlabel(\"Tổng trọng số tối thiểu mỗi nút lá\")\n",
    "plt.ylabel(\"RMSE\")\n",
    "plt.legend()\n",
    "plt.grid(True)\n",
    "plt.tight_layout()\n",
    "plt.show()\n"
   ]
  },
  {
   "cell_type": "markdown",
   "id": "43bc8a5f",
   "metadata": {},
   "source": [
    "## Final model"
   ]
  },
  {
   "cell_type": "code",
   "execution_count": null,
   "id": "4a283489",
   "metadata": {},
   "outputs": [],
   "source": [
    "import xgboost as xgb\n",
    "from sklearn.metrics import mean_squared_error, r2_score\n",
    "\n",
    "dtrain = xgb.DMatrix(x_train, label=y_train)\n",
    "dval = xgb.DMatrix(x_val, label=y_val)\n",
    "\n",
    "params = {\n",
    "    'objective': 'reg:squarederror',  \n",
    "    'eval_metric': 'rmse',\n",
    "    'learning_rate': 0.1,\n",
    "    'max_depth': 3,\n",
    "    'min_child_weight': 6,\n",
    "    'subsample': 0.9,       \n",
    "}\n",
    "\n",
    "evals = [(dtrain, 'train'), (dval, 'eval')]\n",
    "\n",
    "model = xgb.train(\n",
    "    params,\n",
    "    dtrain,\n",
    "    num_boost_round=2000,\n",
    "    evals=evals,\n",
    "    early_stopping_rounds=100,  \n",
    ")\n",
    "\n",
    "y_pred = model.predict(dval, iteration_range=(0, model.best_iteration + 1))\n",
    "\n",
    "rmse = root_mean_squared_error(y_val, y_pred)\n",
    "r2 = r2_score(y_val, y_pred)\n",
    "\n",
    "print(f\"Validation RMSE: {rmse:.4f}\")\n",
    "print(f\"Validation R²: {r2:.4f}\")\n"
   ]
  },
  {
   "cell_type": "code",
   "execution_count": null,
   "id": "3795f977",
   "metadata": {},
   "outputs": [],
   "source": [
    "import pandas as pd\n",
    "\n",
    "dtest = xgb.DMatrix(x_test)\n",
    "y_pred = model.predict(dtest)\n",
    "\n",
    "submission = pd.DataFrame({\n",
    "    'Id': range(len(y_pred)),  \n",
    "    'TARGET': y_pred\n",
    "})\n",
    "\n",
    "submission.to_csv('submission.csv', index=False)\n"
   ]
  }
 ],
 "metadata": {
  "kernelspec": {
   "display_name": "Python 3",
   "language": "python",
   "name": "python3"
  },
  "language_info": {
   "codemirror_mode": {
    "name": "ipython",
    "version": 3
   },
   "file_extension": ".py",
   "mimetype": "text/x-python",
   "name": "python",
   "nbconvert_exporter": "python",
   "pygments_lexer": "ipython3",
   "version": "3.11.5"
  }
 },
 "nbformat": 4,
 "nbformat_minor": 5
}
